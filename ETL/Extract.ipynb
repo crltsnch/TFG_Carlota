{
 "cells": [
  {
   "cell_type": "code",
   "execution_count": 1,
   "metadata": {},
   "outputs": [
    {
     "name": "stdout",
     "output_type": "stream",
     "text": [
      "\u001b[33mWARNING: Skipping /Users/carlotasanchezgonzalez/anaconda3/lib/python3.11/site-packages/rich-13.7.1.dist-info due to invalid metadata entry 'name'\u001b[0m\u001b[33m\n",
      "\u001b[0m\u001b[33mWARNING: Skipping /Users/carlotasanchezgonzalez/anaconda3/lib/python3.11/site-packages/rich-13.7.1.dist-info due to invalid metadata entry 'name'\u001b[0m\u001b[33m\n",
      "\u001b[0mCollecting git+https://github.com/ucscXena/xenaPython\n",
      "  Cloning https://github.com/ucscXena/xenaPython to /private/var/folders/98/7bgvzcwx7tz2bgwyh060mq100000gn/T/pip-req-build-jjb86ghr\n",
      "  Running command git clone --filter=blob:none --quiet https://github.com/ucscXena/xenaPython /private/var/folders/98/7bgvzcwx7tz2bgwyh060mq100000gn/T/pip-req-build-jjb86ghr\n",
      "  Resolved https://github.com/ucscXena/xenaPython to commit f243bbff036f5b9e417a77efc95ccc76672ca306\n",
      "  Preparing metadata (setup.py) ... \u001b[?25ldone\n",
      "\u001b[?25h\u001b[33mWARNING: Skipping /Users/carlotasanchezgonzalez/anaconda3/lib/python3.11/site-packages/rich-13.7.1.dist-info due to invalid metadata entry 'name'\u001b[0m\u001b[33m\n",
      "\u001b[0m\u001b[33mWARNING: Skipping /Users/carlotasanchezgonzalez/anaconda3/lib/python3.11/site-packages/rich-13.7.1.dist-info due to invalid metadata entry 'name'\u001b[0m\u001b[33m\n",
      "\u001b[0mNote: you may need to restart the kernel to use updated packages.\n"
     ]
    }
   ],
   "source": [
    "pip install 'git+https://github.com/ucscXena/xenaPython'"
   ]
  },
  {
   "cell_type": "code",
   "execution_count": 2,
   "metadata": {},
   "outputs": [
    {
     "name": "stdout",
     "output_type": "stream",
     "text": [
      "\u001b[33mWARNING: Skipping /Users/carlotasanchezgonzalez/anaconda3/lib/python3.11/site-packages/rich-13.7.1.dist-info due to invalid metadata entry 'name'\u001b[0m\u001b[33m\n",
      "\u001b[0m\u001b[33mWARNING: Skipping /Users/carlotasanchezgonzalez/anaconda3/lib/python3.11/site-packages/rich-13.7.1.dist-info due to invalid metadata entry 'name'\u001b[0m\u001b[33m\n",
      "\u001b[0mCollecting git+https://github.com/ucscXena/xenaPython\n",
      "  Cloning https://github.com/ucscXena/xenaPython to /private/var/folders/98/7bgvzcwx7tz2bgwyh060mq100000gn/T/pip-req-build-_idhnbw9\n",
      "  Running command git clone --filter=blob:none --quiet https://github.com/ucscXena/xenaPython /private/var/folders/98/7bgvzcwx7tz2bgwyh060mq100000gn/T/pip-req-build-_idhnbw9\n",
      "  Resolved https://github.com/ucscXena/xenaPython to commit f243bbff036f5b9e417a77efc95ccc76672ca306\n",
      "  Preparing metadata (setup.py) ... \u001b[?25ldone\n",
      "\u001b[?25h\u001b[33mWARNING: Skipping /Users/carlotasanchezgonzalez/anaconda3/lib/python3.11/site-packages/rich-13.7.1.dist-info due to invalid metadata entry 'name'\u001b[0m\u001b[33m\n",
      "\u001b[0m\u001b[33mWARNING: Skipping /Users/carlotasanchezgonzalez/anaconda3/lib/python3.11/site-packages/rich-13.7.1.dist-info due to invalid metadata entry 'name'\u001b[0m\u001b[33m\n",
      "\u001b[0mNote: you may need to restart the kernel to use updated packages.\n"
     ]
    }
   ],
   "source": [
    "pip install --upgrade 'git+https://github.com/ucscXena/xenaPython'"
   ]
  },
  {
   "cell_type": "code",
   "execution_count": 1,
   "metadata": {},
   "outputs": [
    {
     "name": "stderr",
     "output_type": "stream",
     "text": [
      "/Users/carlotasanchezgonzalez/anaconda3/lib/python3.11/site-packages/xenaPython/__init__.py:109: FutureWarning: Possible nested set at position 7\n",
      "  re.sub(r\"^[^[]+[[]([^]]*)[]].*$\", r\"\\1\", query, flags=re.DOTALL))\n"
     ]
    },
    {
     "name": "stdout",
     "output_type": "stream",
     "text": [
      "📥 Descargando: TCGA-LAML.clinical.tsv\n",
      "✅ Guardado en DataLake/TCGA-LAML.clinical.csv\n",
      "\n",
      "📥 Descargando: TCGA-ACC.clinical.tsv\n",
      "✅ Guardado en DataLake/TCGA-ACC.clinical.csv\n",
      "\n",
      "📥 Descargando: TCGA-CHOL.clinical.tsv\n",
      "✅ Guardado en DataLake/TCGA-CHOL.clinical.csv\n",
      "\n",
      "📥 Descargando: TCGA-BLCA.clinical.tsv\n",
      "✅ Guardado en DataLake/TCGA-BLCA.clinical.csv\n",
      "\n",
      "📥 Descargando: TCGA-BRCA.clinical.tsv\n",
      "✅ Guardado en DataLake/TCGA-BRCA.clinical.csv\n",
      "\n",
      "📥 Descargando: TCGA-CESC.clinical.tsv\n",
      "✅ Guardado en DataLake/TCGA-CESC.clinical.csv\n",
      "\n",
      "📥 Descargando: TCGA-COAD.clinical.tsv\n",
      "✅ Guardado en DataLake/TCGA-COAD.clinical.csv\n",
      "\n",
      "📥 Descargando: TCGA-UCEC.clinical.tsv\n",
      "✅ Guardado en DataLake/TCGA-UCEC.clinical.csv\n",
      "\n",
      "📥 Descargando: TCGA-ESCA.clinical.tsv\n",
      "✅ Guardado en DataLake/TCGA-ESCA.clinical.csv\n",
      "\n",
      "📥 Descargando: TCGA-GBM.clinical.tsv\n",
      "✅ Guardado en DataLake/TCGA-GBM.clinical.csv\n",
      "\n",
      "📥 Descargando: TCGA-HNSC.clinical.tsv\n",
      "✅ Guardado en DataLake/TCGA-HNSC.clinical.csv\n",
      "\n",
      "📥 Descargando: TCGA-KICH.clinical.tsv\n",
      "✅ Guardado en DataLake/TCGA-KICH.clinical.csv\n",
      "\n",
      "📥 Descargando: TCGA-KIRC.clinical.tsv\n",
      "✅ Guardado en DataLake/TCGA-KIRC.clinical.csv\n",
      "\n",
      "📥 Descargando: TCGA-KIRP.clinical.tsv\n",
      "✅ Guardado en DataLake/TCGA-KIRP.clinical.csv\n",
      "\n",
      "📥 Descargando: TCGA-DLBC.clinical.tsv\n",
      "✅ Guardado en DataLake/TCGA-DLBC.clinical.csv\n",
      "\n",
      "📥 Descargando: TCGA-LIHC.clinical.tsv\n",
      "✅ Guardado en DataLake/TCGA-LIHC.clinical.csv\n",
      "\n",
      "📥 Descargando: TCGA-LGG.clinical.tsv\n",
      "✅ Guardado en DataLake/TCGA-LGG.clinical.csv\n",
      "\n",
      "📥 Descargando: TCGA-LUAD.clinical.tsv\n",
      "✅ Guardado en DataLake/TCGA-LUAD.clinical.csv\n",
      "\n",
      "📥 Descargando: TCGA-LUSC.clinical.tsv\n",
      "✅ Guardado en DataLake/TCGA-LUSC.clinical.csv\n",
      "\n",
      "📥 Descargando: TCGA-SKCM.clinical.tsv\n",
      "✅ Guardado en DataLake/TCGA-SKCM.clinical.csv\n",
      "\n",
      "📥 Descargando: TCGA-MESO.clinical.tsv\n",
      "✅ Guardado en DataLake/TCGA-MESO.clinical.csv\n",
      "\n",
      "📥 Descargando: TCGA-UVM.clinical.tsv\n",
      "✅ Guardado en DataLake/TCGA-UVM.clinical.csv\n",
      "\n",
      "📥 Descargando: TCGA-OV.clinical.tsv\n",
      "✅ Guardado en DataLake/TCGA-OV.clinical.csv\n",
      "\n",
      "📥 Descargando: TCGA-PAAD.clinical.tsv\n",
      "✅ Guardado en DataLake/TCGA-PAAD.clinical.csv\n",
      "\n",
      "📥 Descargando: TCGA-PCPG.clinical.tsv\n",
      "✅ Guardado en DataLake/TCGA-PCPG.clinical.csv\n",
      "\n",
      "📥 Descargando: TCGA-PRAD.clinical.tsv\n",
      "✅ Guardado en DataLake/TCGA-PRAD.clinical.csv\n",
      "\n",
      "📥 Descargando: TCGA-READ.clinical.tsv\n",
      "✅ Guardado en DataLake/TCGA-READ.clinical.csv\n",
      "\n",
      "📥 Descargando: TCGA-SARC.clinical.tsv\n",
      "✅ Guardado en DataLake/TCGA-SARC.clinical.csv\n",
      "\n",
      "📥 Descargando: TCGA-STAD.clinical.tsv\n",
      "✅ Guardado en DataLake/TCGA-STAD.clinical.csv\n",
      "\n",
      "📥 Descargando: TCGA-TGCT.clinical.tsv\n",
      "✅ Guardado en DataLake/TCGA-TGCT.clinical.csv\n",
      "\n",
      "📥 Descargando: TCGA-THYM.clinical.tsv\n",
      "✅ Guardado en DataLake/TCGA-THYM.clinical.csv\n",
      "\n",
      "📥 Descargando: TCGA-THCA.clinical.tsv\n",
      "✅ Guardado en DataLake/TCGA-THCA.clinical.csv\n",
      "\n",
      "📥 Descargando: TCGA-UCS.clinical.tsv\n",
      "✅ Guardado en DataLake/TCGA-UCS.clinical.csv\n",
      "\n"
     ]
    }
   ],
   "source": [
    "import xenaPython as xena\n",
    "import pandas as pd\n",
    "import os\n",
    "\n",
    "# Definir el hub\n",
    "hub = \"https://gdc.xenahubs.net\"\n",
    "\n",
    "# Lista de datasets clínicos\n",
    "datasets = [\n",
    "    \"TCGA-LAML.clinical.tsv\", \"TCGA-ACC.clinical.tsv\", \"TCGA-CHOL.clinical.tsv\",\n",
    "    \"TCGA-BLCA.clinical.tsv\", \"TCGA-BRCA.clinical.tsv\", \"TCGA-CESC.clinical.tsv\",\n",
    "    \"TCGA-COAD.clinical.tsv\", \"TCGA-UCEC.clinical.tsv\", \"TCGA-ESCA.clinical.tsv\",\n",
    "    \"TCGA-GBM.clinical.tsv\", \"TCGA-HNSC.clinical.tsv\", \"TCGA-KICH.clinical.tsv\",\n",
    "    \"TCGA-KIRC.clinical.tsv\", \"TCGA-KIRP.clinical.tsv\", \"TCGA-DLBC.clinical.tsv\",\n",
    "    \"TCGA-LIHC.clinical.tsv\", \"TCGA-LGG.clinical.tsv\", \"TCGA-LUAD.clinical.tsv\",\n",
    "    \"TCGA-LUSC.clinical.tsv\", \"TCGA-SKCM.clinical.tsv\", \"TCGA-MESO.clinical.tsv\",\n",
    "    \"TCGA-UVM.clinical.tsv\", \"TCGA-OV.clinical.tsv\", \"TCGA-PAAD.clinical.tsv\",\n",
    "    \"TCGA-PCPG.clinical.tsv\", \"TCGA-PRAD.clinical.tsv\", \"TCGA-READ.clinical.tsv\",\n",
    "    \"TCGA-SARC.clinical.tsv\", \"TCGA-STAD.clinical.tsv\", \"TCGA-TGCT.clinical.tsv\",\n",
    "    \"TCGA-THYM.clinical.tsv\", \"TCGA-THCA.clinical.tsv\", \"TCGA-UCS.clinical.tsv\"\n",
    "]\n",
    "\n",
    "# Carpeta de salida: DataLake\n",
    "output_folder = \"DataLake\"\n",
    "os.makedirs(output_folder, exist_ok=True)\n",
    "\n",
    "# Descargar y guardar cada dataset\n",
    "for dataset in datasets:\n",
    "    print(f\"📥 Descargando: {dataset}\")\n",
    "    try:\n",
    "        samples = xena.dataset_samples(hub, dataset, None)\n",
    "        variables = xena.dataset_field(hub, dataset)\n",
    "        _, values = xena.dataset_probe_values(hub, dataset, samples, variables)\n",
    "\n",
    "        # Crear DataFrame\n",
    "        df = pd.DataFrame({var: values[i] for i, var in enumerate(variables)})\n",
    "        df.insert(0, \"sample_id\", samples)\n",
    "\n",
    "        # Guardar como CSV en la carpeta DataLake\n",
    "        output_path = os.path.join(output_folder, f\"{dataset.replace('.tsv', '')}.csv\")\n",
    "        df.to_csv(output_path, index=False)\n",
    "        print(f\"✅ Guardado en {output_path}\\n\")\n",
    "\n",
    "    except Exception as e:\n",
    "        print(f\"❌ Error con {dataset}: {e}\\n\")\n"
   ]
  }
 ],
 "metadata": {
  "kernelspec": {
   "display_name": "base",
   "language": "python",
   "name": "python3"
  },
  "language_info": {
   "codemirror_mode": {
    "name": "ipython",
    "version": 3
   },
   "file_extension": ".py",
   "mimetype": "text/x-python",
   "name": "python",
   "nbconvert_exporter": "python",
   "pygments_lexer": "ipython3",
   "version": "3.11.5"
  },
  "orig_nbformat": 4,
  "vscode": {
   "interpreter": {
    "hash": "69e361201045b1e54ca5451d64ae6cbebd676041fb777305b3d09b1c4fb2d759"
   }
  }
 },
 "nbformat": 4,
 "nbformat_minor": 2
}
