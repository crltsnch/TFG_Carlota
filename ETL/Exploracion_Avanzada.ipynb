{
 "cells": [
  {
   "cell_type": "markdown",
   "id": "2ad3fde8",
   "metadata": {},
   "source": [
    "# Exploración Avanzada del Dataset Clínico"
   ]
  },
  {
   "cell_type": "code",
   "execution_count": null,
   "id": "4420a7fe",
   "metadata": {},
   "outputs": [],
   "source": [
    "# Librerías necesarias\n",
    "import pandas as pd\n",
    "import numpy as np\n",
    "import seaborn as sns\n",
    "import matplotlib.pyplot as plt\n",
    "import missingno as msno\n",
    "from sklearn.decomposition import PCA\n",
    "from sklearn.preprocessing import StandardScaler\n",
    "import warnings\n",
    "warnings.filterwarnings('ignore')"
   ]
  },
  {
   "cell_type": "code",
   "execution_count": null,
   "id": "8ed88474",
   "metadata": {},
   "outputs": [],
   "source": [
    "# Carga del dataset\n",
    "df = pd.read_csv('/mnt/data/data.csv')\n",
    "df.head()"
   ]
  },
  {
   "cell_type": "markdown",
   "id": "34d4e472",
   "metadata": {},
   "source": [
    "## 1. PCA - Reducción de Dimensionalidad"
   ]
  },
  {
   "cell_type": "code",
   "execution_count": null,
   "id": "68f1d28a",
   "metadata": {},
   "outputs": [],
   "source": [
    "numeric_data = df.select_dtypes(include=[np.number]).dropna()\n",
    "scaled = StandardScaler().fit_transform(numeric_data)\n",
    "pca = PCA(n_components=2)\n",
    "pca_result = pca.fit_transform(scaled)\n",
    "\n",
    "plt.figure(figsize=(8,6))\n",
    "sns.scatterplot(x=pca_result[:,0], y=pca_result[:,1], hue=df.loc[numeric_data.index, 'tipo_cancer_general'])\n",
    "plt.title(\"PCA - Reducción de Dimensionalidad\")\n",
    "plt.xlabel(\"Componente 1\")\n",
    "plt.ylabel(\"Componente 2\")\n",
    "plt.show()"
   ]
  },
  {
   "cell_type": "markdown",
   "id": "a772f8fa",
   "metadata": {},
   "source": [
    "## 2. Agrupación Jerárquica de Variables Categóricas"
   ]
  },
  {
   "cell_type": "code",
   "execution_count": null,
   "id": "d85a7dae",
   "metadata": {},
   "outputs": [],
   "source": [
    "pivot = pd.crosstab(df['tipo_cancer_general'], df['gender.demographic'])\n",
    "sns.clustermap(pivot, cmap=\"viridis\", standard_scale=1)"
   ]
  },
  {
   "cell_type": "markdown",
   "id": "b9455e55",
   "metadata": {},
   "source": [
    "## 3. Análisis Multivariado con Pairplot"
   ]
  },
  {
   "cell_type": "code",
   "execution_count": null,
   "id": "e6472d10",
   "metadata": {},
   "outputs": [],
   "source": [
    "numeric_cols = df.select_dtypes(include=np.number).columns[:5]\n",
    "sns.pairplot(df, hue='tipo_cancer_general', vars=numeric_cols)"
   ]
  },
  {
   "cell_type": "markdown",
   "id": "8f10104a",
   "metadata": {},
   "source": [
    "## 4. Outliers por Clase de Cáncer"
   ]
  },
  {
   "cell_type": "code",
   "execution_count": null,
   "id": "56288526",
   "metadata": {},
   "outputs": [],
   "source": [
    "for col in df.select_dtypes(include=[np.number]).columns:\n",
    "    plt.figure(figsize=(10, 4))\n",
    "    sns.boxplot(data=df, x='tipo_cancer_general', y=col)\n",
    "    plt.title(f'Distribución de {col} por tipo de cáncer')\n",
    "    plt.xticks(rotation=45)\n",
    "    plt.tight_layout()\n",
    "    plt.show()"
   ]
  },
  {
   "cell_type": "markdown",
   "id": "71d85262",
   "metadata": {},
   "source": [
    "## 5. Perfilado Automático (opcional con ydata-profiling)"
   ]
  },
  {
   "cell_type": "code",
   "execution_count": null,
   "id": "673779a4",
   "metadata": {},
   "outputs": [],
   "source": [
    "# from ydata_profiling import ProfileReport\n",
    "# profile = ProfileReport(df, title='Reporte Exploratorio', explorative=True)\n",
    "# profile.to_notebook_iframe()"
   ]
  },
  {
   "cell_type": "markdown",
   "id": "0cdf427f",
   "metadata": {},
   "source": [
    "## 6. Patrones de Valores Faltantes"
   ]
  },
  {
   "cell_type": "code",
   "execution_count": null,
   "id": "0a775a36",
   "metadata": {},
   "outputs": [],
   "source": [
    "msno.dendrogram(df)"
   ]
  },
  {
   "cell_type": "markdown",
   "id": "bdf30db7",
   "metadata": {},
   "source": [
    "## 7. Detección de Duplicados e Inconsistencias"
   ]
  },
  {
   "cell_type": "code",
   "execution_count": null,
   "id": "988a06bc",
   "metadata": {},
   "outputs": [],
   "source": [
    "duplicated = df[df.duplicated(subset='sample_id.samples', keep=False)]\n",
    "duplicated[['sample_id.samples', 'case_id', 'tipo_cancer_general']]"
   ]
  }
 ],
 "metadata": {
  "kernelspec": {
   "display_name": "base",
   "language": "python",
   "name": "python3"
  },
  "language_info": {
   "name": "python",
   "version": "3.11.5"
  },
  "vscode": {
   "interpreter": {
    "hash": "69e361201045b1e54ca5451d64ae6cbebd676041fb777305b3d09b1c4fb2d759"
   }
  }
 },
 "nbformat": 4,
 "nbformat_minor": 5
}
