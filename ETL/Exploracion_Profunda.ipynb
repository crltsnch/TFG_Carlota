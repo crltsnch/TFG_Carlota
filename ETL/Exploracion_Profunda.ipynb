{
 "cells": [
  {
   "cell_type": "markdown",
   "id": "52ca7af0",
   "metadata": {},
   "source": [
    "# Exploración profunda del dataset clínico\n",
    "Este cuaderno realiza un análisis exhaustivo del dataset proporcionado."
   ]
  },
  {
   "cell_type": "code",
   "execution_count": null,
   "id": "3dd6d40d",
   "metadata": {},
   "outputs": [],
   "source": [
    "# Importación de librerías\n",
    "import pandas as pd\n",
    "import numpy as np\n",
    "import seaborn as sns\n",
    "import matplotlib.pyplot as plt\n",
    "import missingno as msno\n",
    "import warnings\n",
    "warnings.filterwarnings('ignore')"
   ]
  },
  {
   "cell_type": "code",
   "execution_count": null,
   "id": "f91a7dbb",
   "metadata": {},
   "outputs": [],
   "source": [
    "# Carga de datos\n",
    "df = pd.read_csv('/mnt/data/data.csv')\n",
    "df.head()"
   ]
  },
  {
   "cell_type": "markdown",
   "id": "a10dbf1a",
   "metadata": {},
   "source": [
    "## Información general del dataset"
   ]
  },
  {
   "cell_type": "code",
   "execution_count": null,
   "id": "5dc4def2",
   "metadata": {},
   "outputs": [],
   "source": [
    "df.info()"
   ]
  },
  {
   "cell_type": "markdown",
   "id": "22110f24",
   "metadata": {},
   "source": [
    "## Valores nulos"
   ]
  },
  {
   "cell_type": "code",
   "execution_count": null,
   "id": "f823c3d8",
   "metadata": {},
   "outputs": [],
   "source": [
    "msno.matrix(df)"
   ]
  },
  {
   "cell_type": "code",
   "execution_count": null,
   "id": "1ac37395",
   "metadata": {},
   "outputs": [],
   "source": [
    "msno.heatmap(df)"
   ]
  },
  {
   "cell_type": "code",
   "execution_count": null,
   "id": "94edb36f",
   "metadata": {},
   "outputs": [],
   "source": [
    "df.isnull().sum().sort_values(ascending=False).head(20)"
   ]
  },
  {
   "cell_type": "markdown",
   "id": "34684775",
   "metadata": {},
   "source": [
    "## Tipos de datos y cardinalidad"
   ]
  },
  {
   "cell_type": "code",
   "execution_count": null,
   "id": "55f63ac5",
   "metadata": {},
   "outputs": [],
   "source": [
    "df.dtypes.value_counts()"
   ]
  },
  {
   "cell_type": "code",
   "execution_count": null,
   "id": "bfd71e3c",
   "metadata": {},
   "outputs": [],
   "source": [
    "df.nunique().sort_values(ascending=False).head(20)"
   ]
  },
  {
   "cell_type": "markdown",
   "id": "b493ab39",
   "metadata": {},
   "source": [
    "## Estadísticas descriptivas"
   ]
  },
  {
   "cell_type": "code",
   "execution_count": null,
   "id": "72772bd9",
   "metadata": {},
   "outputs": [],
   "source": [
    "df.describe(include='all').T"
   ]
  },
  {
   "cell_type": "markdown",
   "id": "30aa7310",
   "metadata": {},
   "source": [
    "## Distribución de variables numéricas"
   ]
  },
  {
   "cell_type": "code",
   "execution_count": null,
   "id": "9aed2a60",
   "metadata": {},
   "outputs": [],
   "source": [
    "df.select_dtypes(include=[np.number]).hist(bins=30, figsize=(20, 15))\n",
    "plt.tight_layout()\n",
    "plt.show()"
   ]
  },
  {
   "cell_type": "markdown",
   "id": "61adef07",
   "metadata": {},
   "source": [
    "## Boxplots para detección de outliers"
   ]
  },
  {
   "cell_type": "code",
   "execution_count": null,
   "id": "588e12e4",
   "metadata": {},
   "outputs": [],
   "source": [
    "for col in df.select_dtypes(include=[np.number]).columns:\n",
    "    plt.figure(figsize=(10, 2))\n",
    "    sns.boxplot(x=df[col])\n",
    "    plt.title(col)\n",
    "    plt.show()"
   ]
  },
  {
   "cell_type": "markdown",
   "id": "31c5e70b",
   "metadata": {},
   "source": [
    "## Frecuencias de variables categóricas"
   ]
  },
  {
   "cell_type": "code",
   "execution_count": null,
   "id": "f9eeb985",
   "metadata": {},
   "outputs": [],
   "source": [
    "categoricas = df.select_dtypes(include='object')\n",
    "for col in categoricas.columns[:10]:\n",
    "    plt.figure(figsize=(10, 4))\n",
    "    df[col].value_counts().head(10).plot(kind='bar')\n",
    "    plt.title(f'Distribución de {col}')\n",
    "    plt.xticks(rotation=45)\n",
    "    plt.show()"
   ]
  },
  {
   "cell_type": "markdown",
   "id": "6ab8d55b",
   "metadata": {},
   "source": [
    "## Correlación entre variables numéricas"
   ]
  },
  {
   "cell_type": "code",
   "execution_count": null,
   "id": "df5e7581",
   "metadata": {},
   "outputs": [],
   "source": [
    "plt.figure(figsize=(16,10))\n",
    "sns.heatmap(df.corr(numeric_only=True), cmap='coolwarm', annot=True)\n",
    "plt.title('Matriz de correlación')\n",
    "plt.show()"
   ]
  },
  {
   "cell_type": "markdown",
   "id": "fe8201bf",
   "metadata": {},
   "source": [
    "## Relación entre variables categóricas y el tipo de cáncer"
   ]
  },
  {
   "cell_type": "code",
   "execution_count": null,
   "id": "40048677",
   "metadata": {},
   "outputs": [],
   "source": [
    "target = 'tipo_cancer_general'\n",
    "for col in categoricas.columns[:10]:\n",
    "    if col != target:\n",
    "        cruzada = pd.crosstab(df[col], df[target])\n",
    "        cruzada.plot(kind='bar', stacked=True, figsize=(10,4))\n",
    "        plt.title(f'Relación entre {col} y {target}')\n",
    "        plt.xticks(rotation=45)\n",
    "        plt.tight_layout()\n",
    "        plt.show()"
   ]
  }
 ],
 "metadata": {},
 "nbformat": 4,
 "nbformat_minor": 5
}
