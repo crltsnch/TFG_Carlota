{
 "cells": [
  {
   "cell_type": "code",
   "execution_count": 1,
   "metadata": {},
   "outputs": [
    {
     "data": {
      "text/html": [
       "<div>\n",
       "<style scoped>\n",
       "    .dataframe tbody tr th:only-of-type {\n",
       "        vertical-align: middle;\n",
       "    }\n",
       "\n",
       "    .dataframe tbody tr th {\n",
       "        vertical-align: top;\n",
       "    }\n",
       "\n",
       "    .dataframe thead th {\n",
       "        text-align: right;\n",
       "    }\n",
       "</style>\n",
       "<table border=\"1\" class=\"dataframe\">\n",
       "  <thead>\n",
       "    <tr style=\"text-align: right;\">\n",
       "      <th></th>\n",
       "      <th>riesgo_clinico</th>\n",
       "      <th>riesgo_emo</th>\n",
       "    </tr>\n",
       "  </thead>\n",
       "  <tbody>\n",
       "  </tbody>\n",
       "</table>\n",
       "</div>"
      ],
      "text/plain": [
       "Empty DataFrame\n",
       "Columns: [riesgo_clinico, riesgo_emo]\n",
       "Index: []"
      ]
     },
     "execution_count": 1,
     "metadata": {},
     "output_type": "execute_result"
    }
   ],
   "source": [
    "import pandas as pd\n",
    "\n",
    "# 1. Leer los CSV desde la carpeta 'Dataframe'\n",
    "data_riesgo_clinico = pd.read_csv(\"Dataframe/data_riesgo_clinico.csv\")\n",
    "cosas = pd.read_csv(\"Dataframe/cosas.csv\")\n",
    "\n",
    "# 2. Asegurarte de que ambos DataFrames estén alineados por índice\n",
    "data_riesgo_clinico.reset_index(drop=True, inplace=True)\n",
    "cosas.reset_index(drop=True, inplace=True)\n",
    "\n",
    "# 3. Unir las columnas de interés\n",
    "df_comparado = pd.concat([\n",
    "    data_riesgo_clinico[\"riesgo_clinico\"],\n",
    "    cosas[\"riesgo_emo\"]\n",
    "], axis=1)\n",
    "\n",
    "# 4. Filtrar registros donde riesgo_clinico < riesgo_emo\n",
    "resultado = df_comparado[df_comparado[\"riesgo_clinico\"] < df_comparado[\"riesgo_emo\"]]\n",
    "\n",
    "# 5. Mostrar el resultado\n",
    "resultado"
   ]
  },
  {
   "cell_type": "code",
   "execution_count": 2,
   "metadata": {},
   "outputs": [],
   "source": [
    "import joblib\n",
    "\n",
    "# Modelo entrenado solo con variables clínicas\n",
    "estimator_clinico = joblib.load(\"Outputs/models/cox_ph.pkl\")\n",
    "\n",
    "# Modelo entrenado con variables clínicas + emocionales\n",
    "estimator_emo = joblib.load(\"Outputs/models_emo/cox_ph.pkl\")"
   ]
  }
 ],
 "metadata": {
  "kernelspec": {
   "display_name": "survival_py310",
   "language": "python",
   "name": "python3"
  },
  "language_info": {
   "codemirror_mode": {
    "name": "ipython",
    "version": 3
   },
   "file_extension": ".py",
   "mimetype": "text/x-python",
   "name": "python",
   "nbconvert_exporter": "python",
   "pygments_lexer": "ipython3",
   "version": "3.10.13"
  },
  "orig_nbformat": 4,
  "vscode": {
   "interpreter": {
    "hash": "05d0f2ef8cb907561cf8db8d5329667e0890907887b43863c35d07e0e3d83f0f"
   }
  }
 },
 "nbformat": 4,
 "nbformat_minor": 2
}
